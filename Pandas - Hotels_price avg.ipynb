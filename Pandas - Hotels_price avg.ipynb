{
 "cells": [
  {
   "cell_type": "code",
   "execution_count": 1,
   "id": "5794993a",
   "metadata": {},
   "outputs": [],
   "source": [
    "#Goal:\n",
    "# Take data from .csv and place into dataframe\n",
    "# Calculate the avg hotel price using a random sample of the following: 25, 50, 200 \n",
    "# Compair the sample means to the avg hotel price of the entire dataset\n",
    "# repeat this exercise two more time and comment hwo the avg varies across samples of diffrent sizes "
   ]
  },
  {
   "cell_type": "code",
   "execution_count": null,
   "id": "2b251819",
   "metadata": {},
   "outputs": [],
   "source": [
    "import pandas as pd"
   ]
  },
  {
   "cell_type": "code",
   "execution_count": 4,
   "id": "072dc97b",
   "metadata": {},
   "outputs": [],
   "source": [
    "df = pd.read_csv('/Users/word/Python Projects/CIS 509/Hotels-Vienna.csv')"
   ]
  },
  {
   "cell_type": "code",
   "execution_count": 5,
   "id": "2f6967af",
   "metadata": {},
   "outputs": [
    {
     "data": {
      "text/html": [
       "<div>\n",
       "<style scoped>\n",
       "    .dataframe tbody tr th:only-of-type {\n",
       "        vertical-align: middle;\n",
       "    }\n",
       "\n",
       "    .dataframe tbody tr th {\n",
       "        vertical-align: top;\n",
       "    }\n",
       "\n",
       "    .dataframe thead th {\n",
       "        text-align: right;\n",
       "    }\n",
       "</style>\n",
       "<table border=\"1\" class=\"dataframe\">\n",
       "  <thead>\n",
       "    <tr style=\"text-align: right;\">\n",
       "      <th></th>\n",
       "      <th>country</th>\n",
       "      <th>city_actual</th>\n",
       "      <th>rating_count</th>\n",
       "      <th>center1label</th>\n",
       "      <th>center2label</th>\n",
       "      <th>neighbourhood</th>\n",
       "      <th>price</th>\n",
       "      <th>city</th>\n",
       "      <th>stars</th>\n",
       "      <th>ratingta</th>\n",
       "      <th>...</th>\n",
       "      <th>offer_cat</th>\n",
       "      <th>year</th>\n",
       "      <th>month</th>\n",
       "      <th>weekend</th>\n",
       "      <th>holiday</th>\n",
       "      <th>distance</th>\n",
       "      <th>distance_alter</th>\n",
       "      <th>accommodation_type</th>\n",
       "      <th>nnights</th>\n",
       "      <th>rating</th>\n",
       "    </tr>\n",
       "  </thead>\n",
       "  <tbody>\n",
       "    <tr>\n",
       "      <th>0</th>\n",
       "      <td>Austria</td>\n",
       "      <td>Vienna</td>\n",
       "      <td>36.0</td>\n",
       "      <td>City centre</td>\n",
       "      <td>Donauturm</td>\n",
       "      <td>17. Hernals</td>\n",
       "      <td>81</td>\n",
       "      <td>Vienna</td>\n",
       "      <td>4.0</td>\n",
       "      <td>4.5</td>\n",
       "      <td>...</td>\n",
       "      <td>15-50% offer</td>\n",
       "      <td>2017</td>\n",
       "      <td>11</td>\n",
       "      <td>0</td>\n",
       "      <td>0</td>\n",
       "      <td>2.7</td>\n",
       "      <td>4.4</td>\n",
       "      <td>Apartment</td>\n",
       "      <td>1</td>\n",
       "      <td>4.4</td>\n",
       "    </tr>\n",
       "    <tr>\n",
       "      <th>1</th>\n",
       "      <td>Austria</td>\n",
       "      <td>Vienna</td>\n",
       "      <td>189.0</td>\n",
       "      <td>City centre</td>\n",
       "      <td>Donauturm</td>\n",
       "      <td>17. Hernals</td>\n",
       "      <td>81</td>\n",
       "      <td>Vienna</td>\n",
       "      <td>4.0</td>\n",
       "      <td>3.5</td>\n",
       "      <td>...</td>\n",
       "      <td>1-15% offer</td>\n",
       "      <td>2017</td>\n",
       "      <td>11</td>\n",
       "      <td>0</td>\n",
       "      <td>0</td>\n",
       "      <td>1.7</td>\n",
       "      <td>3.8</td>\n",
       "      <td>Hotel</td>\n",
       "      <td>1</td>\n",
       "      <td>3.9</td>\n",
       "    </tr>\n",
       "    <tr>\n",
       "      <th>2</th>\n",
       "      <td>Austria</td>\n",
       "      <td>Vienna</td>\n",
       "      <td>53.0</td>\n",
       "      <td>City centre</td>\n",
       "      <td>Donauturm</td>\n",
       "      <td>Alsergrund</td>\n",
       "      <td>85</td>\n",
       "      <td>Vienna</td>\n",
       "      <td>4.0</td>\n",
       "      <td>3.5</td>\n",
       "      <td>...</td>\n",
       "      <td>15-50% offer</td>\n",
       "      <td>2017</td>\n",
       "      <td>11</td>\n",
       "      <td>0</td>\n",
       "      <td>0</td>\n",
       "      <td>1.4</td>\n",
       "      <td>2.5</td>\n",
       "      <td>Hotel</td>\n",
       "      <td>1</td>\n",
       "      <td>3.7</td>\n",
       "    </tr>\n",
       "    <tr>\n",
       "      <th>3</th>\n",
       "      <td>Austria</td>\n",
       "      <td>Vienna</td>\n",
       "      <td>55.0</td>\n",
       "      <td>City centre</td>\n",
       "      <td>Donauturm</td>\n",
       "      <td>Alsergrund</td>\n",
       "      <td>83</td>\n",
       "      <td>Vienna</td>\n",
       "      <td>3.0</td>\n",
       "      <td>4.0</td>\n",
       "      <td>...</td>\n",
       "      <td>15-50% offer</td>\n",
       "      <td>2017</td>\n",
       "      <td>11</td>\n",
       "      <td>0</td>\n",
       "      <td>0</td>\n",
       "      <td>1.7</td>\n",
       "      <td>2.5</td>\n",
       "      <td>Hotel</td>\n",
       "      <td>1</td>\n",
       "      <td>4.0</td>\n",
       "    </tr>\n",
       "    <tr>\n",
       "      <th>4</th>\n",
       "      <td>Austria</td>\n",
       "      <td>Vienna</td>\n",
       "      <td>33.0</td>\n",
       "      <td>City centre</td>\n",
       "      <td>Donauturm</td>\n",
       "      <td>Alsergrund</td>\n",
       "      <td>82</td>\n",
       "      <td>Vienna</td>\n",
       "      <td>4.0</td>\n",
       "      <td>3.5</td>\n",
       "      <td>...</td>\n",
       "      <td>15-50% offer</td>\n",
       "      <td>2017</td>\n",
       "      <td>11</td>\n",
       "      <td>0</td>\n",
       "      <td>0</td>\n",
       "      <td>1.2</td>\n",
       "      <td>2.8</td>\n",
       "      <td>Hotel</td>\n",
       "      <td>1</td>\n",
       "      <td>3.9</td>\n",
       "    </tr>\n",
       "    <tr>\n",
       "      <th>...</th>\n",
       "      <td>...</td>\n",
       "      <td>...</td>\n",
       "      <td>...</td>\n",
       "      <td>...</td>\n",
       "      <td>...</td>\n",
       "      <td>...</td>\n",
       "      <td>...</td>\n",
       "      <td>...</td>\n",
       "      <td>...</td>\n",
       "      <td>...</td>\n",
       "      <td>...</td>\n",
       "      <td>...</td>\n",
       "      <td>...</td>\n",
       "      <td>...</td>\n",
       "      <td>...</td>\n",
       "      <td>...</td>\n",
       "      <td>...</td>\n",
       "      <td>...</td>\n",
       "      <td>...</td>\n",
       "      <td>...</td>\n",
       "      <td>...</td>\n",
       "    </tr>\n",
       "    <tr>\n",
       "      <th>423</th>\n",
       "      <td>Austria</td>\n",
       "      <td>Vienna</td>\n",
       "      <td>2.0</td>\n",
       "      <td>City centre</td>\n",
       "      <td>Donauturm</td>\n",
       "      <td>Wieden</td>\n",
       "      <td>109</td>\n",
       "      <td>Vienna</td>\n",
       "      <td>3.0</td>\n",
       "      <td>3.0</td>\n",
       "      <td>...</td>\n",
       "      <td>50%-75% offer</td>\n",
       "      <td>2017</td>\n",
       "      <td>11</td>\n",
       "      <td>0</td>\n",
       "      <td>0</td>\n",
       "      <td>1.5</td>\n",
       "      <td>3.8</td>\n",
       "      <td>Apartment</td>\n",
       "      <td>1</td>\n",
       "      <td>5.0</td>\n",
       "    </tr>\n",
       "    <tr>\n",
       "      <th>424</th>\n",
       "      <td>Austria</td>\n",
       "      <td>Vienna</td>\n",
       "      <td>145.0</td>\n",
       "      <td>City centre</td>\n",
       "      <td>Donauturm</td>\n",
       "      <td>Wieden</td>\n",
       "      <td>185</td>\n",
       "      <td>Vienna</td>\n",
       "      <td>5.0</td>\n",
       "      <td>4.0</td>\n",
       "      <td>...</td>\n",
       "      <td>15-50% offer</td>\n",
       "      <td>2017</td>\n",
       "      <td>11</td>\n",
       "      <td>0</td>\n",
       "      <td>0</td>\n",
       "      <td>0.8</td>\n",
       "      <td>3.6</td>\n",
       "      <td>Hotel</td>\n",
       "      <td>1</td>\n",
       "      <td>4.3</td>\n",
       "    </tr>\n",
       "    <tr>\n",
       "      <th>425</th>\n",
       "      <td>Austria</td>\n",
       "      <td>Vienna</td>\n",
       "      <td>112.0</td>\n",
       "      <td>City centre</td>\n",
       "      <td>Donauturm</td>\n",
       "      <td>Wieden</td>\n",
       "      <td>100</td>\n",
       "      <td>Vienna</td>\n",
       "      <td>4.0</td>\n",
       "      <td>4.5</td>\n",
       "      <td>...</td>\n",
       "      <td>0% no offer</td>\n",
       "      <td>2017</td>\n",
       "      <td>11</td>\n",
       "      <td>0</td>\n",
       "      <td>0</td>\n",
       "      <td>1.0</td>\n",
       "      <td>3.7</td>\n",
       "      <td>Hotel</td>\n",
       "      <td>1</td>\n",
       "      <td>4.4</td>\n",
       "    </tr>\n",
       "    <tr>\n",
       "      <th>426</th>\n",
       "      <td>Austria</td>\n",
       "      <td>Vienna</td>\n",
       "      <td>169.0</td>\n",
       "      <td>City centre</td>\n",
       "      <td>Donauturm</td>\n",
       "      <td>Wieden</td>\n",
       "      <td>58</td>\n",
       "      <td>Vienna</td>\n",
       "      <td>3.0</td>\n",
       "      <td>3.0</td>\n",
       "      <td>...</td>\n",
       "      <td>15-50% offer</td>\n",
       "      <td>2017</td>\n",
       "      <td>11</td>\n",
       "      <td>0</td>\n",
       "      <td>0</td>\n",
       "      <td>1.4</td>\n",
       "      <td>4.1</td>\n",
       "      <td>Hotel</td>\n",
       "      <td>1</td>\n",
       "      <td>3.2</td>\n",
       "    </tr>\n",
       "    <tr>\n",
       "      <th>427</th>\n",
       "      <td>Austria</td>\n",
       "      <td>Vienna</td>\n",
       "      <td>80.0</td>\n",
       "      <td>City centre</td>\n",
       "      <td>Donauturm</td>\n",
       "      <td>Wieden</td>\n",
       "      <td>110</td>\n",
       "      <td>Vienna</td>\n",
       "      <td>3.5</td>\n",
       "      <td>NaN</td>\n",
       "      <td>...</td>\n",
       "      <td>1-15% offer</td>\n",
       "      <td>2017</td>\n",
       "      <td>11</td>\n",
       "      <td>0</td>\n",
       "      <td>0</td>\n",
       "      <td>0.7</td>\n",
       "      <td>3.5</td>\n",
       "      <td>Apartment</td>\n",
       "      <td>1</td>\n",
       "      <td>4.0</td>\n",
       "    </tr>\n",
       "  </tbody>\n",
       "</table>\n",
       "<p>428 rows × 24 columns</p>\n",
       "</div>"
      ],
      "text/plain": [
       "     country city_actual  rating_count center1label center2label  \\\n",
       "0    Austria      Vienna          36.0  City centre    Donauturm   \n",
       "1    Austria      Vienna         189.0  City centre    Donauturm   \n",
       "2    Austria      Vienna          53.0  City centre    Donauturm   \n",
       "3    Austria      Vienna          55.0  City centre    Donauturm   \n",
       "4    Austria      Vienna          33.0  City centre    Donauturm   \n",
       "..       ...         ...           ...          ...          ...   \n",
       "423  Austria      Vienna           2.0  City centre    Donauturm   \n",
       "424  Austria      Vienna         145.0  City centre    Donauturm   \n",
       "425  Austria      Vienna         112.0  City centre    Donauturm   \n",
       "426  Austria      Vienna         169.0  City centre    Donauturm   \n",
       "427  Austria      Vienna          80.0  City centre    Donauturm   \n",
       "\n",
       "    neighbourhood  price    city  stars  ratingta  ...      offer_cat  year  \\\n",
       "0     17. Hernals     81  Vienna    4.0       4.5  ...   15-50% offer  2017   \n",
       "1     17. Hernals     81  Vienna    4.0       3.5  ...    1-15% offer  2017   \n",
       "2      Alsergrund     85  Vienna    4.0       3.5  ...   15-50% offer  2017   \n",
       "3      Alsergrund     83  Vienna    3.0       4.0  ...   15-50% offer  2017   \n",
       "4      Alsergrund     82  Vienna    4.0       3.5  ...   15-50% offer  2017   \n",
       "..            ...    ...     ...    ...       ...  ...            ...   ...   \n",
       "423        Wieden    109  Vienna    3.0       3.0  ...  50%-75% offer  2017   \n",
       "424        Wieden    185  Vienna    5.0       4.0  ...   15-50% offer  2017   \n",
       "425        Wieden    100  Vienna    4.0       4.5  ...    0% no offer  2017   \n",
       "426        Wieden     58  Vienna    3.0       3.0  ...   15-50% offer  2017   \n",
       "427        Wieden    110  Vienna    3.5       NaN  ...    1-15% offer  2017   \n",
       "\n",
       "     month  weekend holiday  distance  distance_alter  accommodation_type  \\\n",
       "0       11        0       0       2.7             4.4           Apartment   \n",
       "1       11        0       0       1.7             3.8               Hotel   \n",
       "2       11        0       0       1.4             2.5               Hotel   \n",
       "3       11        0       0       1.7             2.5               Hotel   \n",
       "4       11        0       0       1.2             2.8               Hotel   \n",
       "..     ...      ...     ...       ...             ...                 ...   \n",
       "423     11        0       0       1.5             3.8           Apartment   \n",
       "424     11        0       0       0.8             3.6               Hotel   \n",
       "425     11        0       0       1.0             3.7               Hotel   \n",
       "426     11        0       0       1.4             4.1               Hotel   \n",
       "427     11        0       0       0.7             3.5           Apartment   \n",
       "\n",
       "     nnights  rating  \n",
       "0          1     4.4  \n",
       "1          1     3.9  \n",
       "2          1     3.7  \n",
       "3          1     4.0  \n",
       "4          1     3.9  \n",
       "..       ...     ...  \n",
       "423        1     5.0  \n",
       "424        1     4.3  \n",
       "425        1     4.4  \n",
       "426        1     3.2  \n",
       "427        1     4.0  \n",
       "\n",
       "[428 rows x 24 columns]"
      ]
     },
     "execution_count": 5,
     "metadata": {},
     "output_type": "execute_result"
    }
   ],
   "source": [
    "df"
   ]
  },
  {
   "cell_type": "code",
   "execution_count": 60,
   "id": "f8ec10f5",
   "metadata": {},
   "outputs": [
    {
     "data": {
      "text/plain": [
       "132.88"
      ]
     },
     "execution_count": 60,
     "metadata": {},
     "output_type": "execute_result"
    }
   ],
   "source": [
    "df['price'].sample(25).mean()"
   ]
  },
  {
   "cell_type": "code",
   "execution_count": 61,
   "id": "df86bda8",
   "metadata": {},
   "outputs": [
    {
     "data": {
      "text/plain": [
       "149.12"
      ]
     },
     "execution_count": 61,
     "metadata": {},
     "output_type": "execute_result"
    }
   ],
   "source": [
    "df['price'].sample(25).mean()"
   ]
  },
  {
   "cell_type": "code",
   "execution_count": 62,
   "id": "e84bc1df",
   "metadata": {},
   "outputs": [
    {
     "data": {
      "text/plain": [
       "114.12"
      ]
     },
     "execution_count": 62,
     "metadata": {},
     "output_type": "execute_result"
    }
   ],
   "source": [
    "df['price'].sample(25).mean()"
   ]
  },
  {
   "cell_type": "code",
   "execution_count": null,
   "id": "fa997e44",
   "metadata": {},
   "outputs": [],
   "source": []
  },
  {
   "cell_type": "code",
   "execution_count": 63,
   "id": "2d7059bd",
   "metadata": {},
   "outputs": [
    {
     "data": {
      "text/plain": [
       "111.8"
      ]
     },
     "execution_count": 63,
     "metadata": {},
     "output_type": "execute_result"
    }
   ],
   "source": [
    "df['price'].sample(50).mean()"
   ]
  },
  {
   "cell_type": "code",
   "execution_count": 64,
   "id": "7fe00736",
   "metadata": {},
   "outputs": [
    {
     "data": {
      "text/plain": [
       "134.54"
      ]
     },
     "execution_count": 64,
     "metadata": {},
     "output_type": "execute_result"
    }
   ],
   "source": [
    "df['price'].sample(50).mean()"
   ]
  },
  {
   "cell_type": "code",
   "execution_count": 65,
   "id": "1a7b3f80",
   "metadata": {},
   "outputs": [
    {
     "data": {
      "text/plain": [
       "126.82"
      ]
     },
     "execution_count": 65,
     "metadata": {},
     "output_type": "execute_result"
    }
   ],
   "source": [
    "df['price'].sample(50).mean()"
   ]
  },
  {
   "cell_type": "code",
   "execution_count": null,
   "id": "b0260153",
   "metadata": {},
   "outputs": [],
   "source": []
  },
  {
   "cell_type": "code",
   "execution_count": 51,
   "id": "ac7d88fd",
   "metadata": {},
   "outputs": [
    {
     "data": {
      "text/plain": [
       "135.49"
      ]
     },
     "execution_count": 51,
     "metadata": {},
     "output_type": "execute_result"
    }
   ],
   "source": [
    "df['price'].sample(200).mean()"
   ]
  },
  {
   "cell_type": "code",
   "execution_count": 52,
   "id": "fd1b93d6",
   "metadata": {},
   "outputs": [
    {
     "data": {
      "text/plain": [
       "131.49"
      ]
     },
     "execution_count": 52,
     "metadata": {},
     "output_type": "execute_result"
    }
   ],
   "source": [
    "df['price'].sample(200).mean()"
   ]
  },
  {
   "cell_type": "code",
   "execution_count": 53,
   "id": "41fa8112",
   "metadata": {},
   "outputs": [
    {
     "data": {
      "text/plain": [
       "129.665"
      ]
     },
     "execution_count": 53,
     "metadata": {},
     "output_type": "execute_result"
    }
   ],
   "source": [
    "df['price'].sample(200).mean()"
   ]
  },
  {
   "cell_type": "code",
   "execution_count": null,
   "id": "6963baea",
   "metadata": {},
   "outputs": [],
   "source": []
  },
  {
   "cell_type": "code",
   "execution_count": 66,
   "id": "c0ca9796",
   "metadata": {},
   "outputs": [],
   "source": [
    "#avg of the entire dataset"
   ]
  },
  {
   "cell_type": "code",
   "execution_count": 45,
   "id": "50e6a7d9",
   "metadata": {},
   "outputs": [
    {
     "data": {
      "text/plain": [
       "131.36682242990653"
      ]
     },
     "execution_count": 45,
     "metadata": {},
     "output_type": "execute_result"
    }
   ],
   "source": [
    "df['price'].mean()"
   ]
  },
  {
   "cell_type": "code",
   "execution_count": null,
   "id": "833aa478",
   "metadata": {},
   "outputs": [],
   "source": []
  }
 ],
 "metadata": {
  "kernelspec": {
   "display_name": "Python 3 (ipykernel)",
   "language": "python",
   "name": "python3"
  },
  "language_info": {
   "codemirror_mode": {
    "name": "ipython",
    "version": 3
   },
   "file_extension": ".py",
   "mimetype": "text/x-python",
   "name": "python",
   "nbconvert_exporter": "python",
   "pygments_lexer": "ipython3",
   "version": "3.8.2"
  }
 },
 "nbformat": 4,
 "nbformat_minor": 5
}
