{
 "cells": [
  {
   "cell_type": "code",
   "execution_count": 1,
   "id": "70f09992",
   "metadata": {},
   "outputs": [],
   "source": [
    "# Reference:\n",
    "# online free docs:    https://pandas.pydata.org/pandas-docs/stable"
   ]
  },
  {
   "cell_type": "code",
   "execution_count": 2,
   "id": "bf8ff6ba",
   "metadata": {},
   "outputs": [],
   "source": [
    "import numpy as np\n",
    "import pandas as pd"
   ]
  },
  {
   "cell_type": "code",
   "execution_count": 3,
   "id": "011952a1",
   "metadata": {},
   "outputs": [],
   "source": []
  },
  {
   "cell_type": "code",
   "execution_count": null,
   "id": "0aaf5950",
   "metadata": {},
   "outputs": [],
   "source": []
  },
  {
   "cell_type": "code",
   "execution_count": 10,
   "id": "27ba6ab3",
   "metadata": {},
   "outputs": [],
   "source": [
    "#### pandas series objects#######\n",
    "# very similar to numpy arrays, but with axis labels (as denoted by the index)\n",
    "###############################################################################\n",
    "\n",
    "## How to create a series##"
   ]
  },
  {
   "cell_type": "code",
   "execution_count": 6,
   "id": "5d887d7e",
   "metadata": {},
   "outputs": [],
   "source": [
    "lst = [10,20,30]\n",
    "ser = pd.Series(data=lst)"
   ]
  },
  {
   "cell_type": "code",
   "execution_count": 7,
   "id": "10074d18",
   "metadata": {},
   "outputs": [
    {
     "data": {
      "text/plain": [
       "0    10\n",
       "1    20\n",
       "2    30\n",
       "dtype: int64"
      ]
     },
     "execution_count": 7,
     "metadata": {},
     "output_type": "execute_result"
    }
   ],
   "source": [
    "ser"
   ]
  },
  {
   "cell_type": "code",
   "execution_count": null,
   "id": "9cca1781",
   "metadata": {},
   "outputs": [],
   "source": [
    "# index labels (default index)"
   ]
  },
  {
   "cell_type": "code",
   "execution_count": null,
   "id": "9a7dbe3d",
   "metadata": {},
   "outputs": [],
   "source": []
  },
  {
   "cell_type": "code",
   "execution_count": 8,
   "id": "a88e12de",
   "metadata": {},
   "outputs": [],
   "source": [
    "# use the index parameter instead of the default## \n",
    "lst = [10,20,30]\n",
    "ser = pd.Series(data=lst,index=['a','b','c'])"
   ]
  },
  {
   "cell_type": "code",
   "execution_count": 9,
   "id": "6bc27a9e",
   "metadata": {},
   "outputs": [
    {
     "data": {
      "text/plain": [
       "a    10\n",
       "b    20\n",
       "c    30\n",
       "dtype: int64"
      ]
     },
     "execution_count": 9,
     "metadata": {},
     "output_type": "execute_result"
    }
   ],
   "source": [
    "ser"
   ]
  },
  {
   "cell_type": "code",
   "execution_count": null,
   "id": "71cc51b7",
   "metadata": {},
   "outputs": [],
   "source": []
  },
  {
   "cell_type": "code",
   "execution_count": null,
   "id": "4d486ebb",
   "metadata": {},
   "outputs": [],
   "source": [
    "# Create a Series object out of an Numpy array"
   ]
  },
  {
   "cell_type": "code",
   "execution_count": 11,
   "id": "db129b1f",
   "metadata": {},
   "outputs": [],
   "source": [
    "arr = np.array([100,200,300])"
   ]
  },
  {
   "cell_type": "code",
   "execution_count": 13,
   "id": "f718eec2",
   "metadata": {},
   "outputs": [
    {
     "data": {
      "text/plain": [
       "0    100\n",
       "1    200\n",
       "2    300\n",
       "dtype: int64"
      ]
     },
     "execution_count": 13,
     "metadata": {},
     "output_type": "execute_result"
    }
   ],
   "source": [
    "ser = pd.Series(data=arr)\n",
    "ser"
   ]
  },
  {
   "cell_type": "code",
   "execution_count": null,
   "id": "8d8c9664",
   "metadata": {},
   "outputs": [],
   "source": []
  },
  {
   "cell_type": "code",
   "execution_count": 15,
   "id": "48d83b4d",
   "metadata": {},
   "outputs": [],
   "source": [
    "# predefine an index for a series#"
   ]
  },
  {
   "cell_type": "code",
   "execution_count": 16,
   "id": "162f4eef",
   "metadata": {},
   "outputs": [
    {
     "data": {
      "text/plain": [
       "a    100\n",
       "b    200\n",
       "c    300\n",
       "dtype: int64"
      ]
     },
     "execution_count": 16,
     "metadata": {},
     "output_type": "execute_result"
    }
   ],
   "source": [
    "arr = np.array([100,200,300])\n",
    "idx = ['a','b','c']\n",
    "ser = pd.Series(data=arr,index=idx)\n",
    "ser"
   ]
  },
  {
   "cell_type": "code",
   "execution_count": null,
   "id": "5a6795cf",
   "metadata": {},
   "outputs": [],
   "source": []
  },
  {
   "cell_type": "code",
   "execution_count": 17,
   "id": "44005fc1",
   "metadata": {},
   "outputs": [],
   "source": [
    "# Use a dictionary to create a series "
   ]
  },
  {
   "cell_type": "code",
   "execution_count": 21,
   "id": "f74ecf3d",
   "metadata": {},
   "outputs": [
    {
     "data": {
      "text/plain": [
       "r    1000\n",
       "s    2000\n",
       "t    3000\n",
       "dtype: int64"
      ]
     },
     "execution_count": 21,
     "metadata": {},
     "output_type": "execute_result"
    }
   ],
   "source": [
    "dct = {'r':1000,'s':2000,'t':3000}\n",
    "ser = pd.Series(data=dct)\n",
    "ser"
   ]
  },
  {
   "cell_type": "code",
   "execution_count": null,
   "id": "49b8241f",
   "metadata": {},
   "outputs": [],
   "source": []
  },
  {
   "cell_type": "code",
   "execution_count": 22,
   "id": "2d441d4b",
   "metadata": {},
   "outputs": [],
   "source": [
    "# You can give your Series a Name #"
   ]
  },
  {
   "cell_type": "code",
   "execution_count": 48,
   "id": "82e116f8",
   "metadata": {},
   "outputs": [
    {
     "data": {
      "text/plain": [
       "a    1.764052\n",
       "b    0.400157\n",
       "c    0.978738\n",
       "Name: X, dtype: float64"
      ]
     },
     "execution_count": 48,
     "metadata": {},
     "output_type": "execute_result"
    }
   ],
   "source": [
    "## Set seed value for random so that the numbers generated can be reused##\n",
    "#np.random.seed(0)\n",
    "\n",
    "#np.random.normal(loc=3,scale=2,size=3)\n",
    "#loc = mu (Population Mean)     and scale = sigma (standard deviation) \n",
    "\n",
    "## The following is more important when you are attempting to concat a Series with a Panda's DataFrame \n",
    "\n",
    "np.random.seed(0)\n",
    "ser = pd.Series(data=np.random.normal(size=3),index=['a','b','c'],name='X')\n",
    "ser"
   ]
  },
  {
   "cell_type": "code",
   "execution_count": null,
   "id": "e9d8a3be",
   "metadata": {},
   "outputs": [],
   "source": []
  },
  {
   "cell_type": "code",
   "execution_count": null,
   "id": "372dfc24",
   "metadata": {},
   "outputs": [],
   "source": []
  },
  {
   "cell_type": "code",
   "execution_count": 49,
   "id": "b394088a",
   "metadata": {},
   "outputs": [],
   "source": [
    "# How to index a panda's Series object"
   ]
  },
  {
   "cell_type": "code",
   "execution_count": 50,
   "id": "21ab5a2b",
   "metadata": {},
   "outputs": [
    {
     "data": {
      "text/plain": [
       "0    10\n",
       "1    20\n",
       "2    30\n",
       "3    40\n",
       "4    50\n",
       "dtype: int64"
      ]
     },
     "execution_count": 50,
     "metadata": {},
     "output_type": "execute_result"
    }
   ],
   "source": [
    "ser = pd.Series([10,20,30,40,50])\n",
    "ser"
   ]
  },
  {
   "cell_type": "code",
   "execution_count": 51,
   "id": "3faabe35",
   "metadata": {},
   "outputs": [
    {
     "data": {
      "text/plain": [
       "30"
      ]
     },
     "execution_count": 51,
     "metadata": {},
     "output_type": "execute_result"
    }
   ],
   "source": [
    "ser[2]"
   ]
  },
  {
   "cell_type": "code",
   "execution_count": null,
   "id": "bafb9847",
   "metadata": {},
   "outputs": [],
   "source": []
  },
  {
   "cell_type": "code",
   "execution_count": 52,
   "id": "c091423c",
   "metadata": {},
   "outputs": [],
   "source": [
    "# You can also specify the idex "
   ]
  },
  {
   "cell_type": "code",
   "execution_count": 54,
   "id": "f414f8d5",
   "metadata": {},
   "outputs": [
    {
     "data": {
      "text/plain": [
       "a    10\n",
       "b    20\n",
       "c    30\n",
       "d    40\n",
       "e    50\n",
       "dtype: int64"
      ]
     },
     "execution_count": 54,
     "metadata": {},
     "output_type": "execute_result"
    }
   ],
   "source": [
    "ser = pd.Series([10,20,30,40,50],index=['a','b','c','d','e'])\n",
    "ser"
   ]
  },
  {
   "cell_type": "code",
   "execution_count": 55,
   "id": "490b3231",
   "metadata": {},
   "outputs": [
    {
     "data": {
      "text/plain": [
       "30"
      ]
     },
     "execution_count": 55,
     "metadata": {},
     "output_type": "execute_result"
    }
   ],
   "source": [
    "ser['c']"
   ]
  },
  {
   "cell_type": "code",
   "execution_count": 58,
   "id": "c2ea4eb2",
   "metadata": {},
   "outputs": [],
   "source": [
    "# You can continue to use implicit index (positional index of the element) by calling iloc"
   ]
  },
  {
   "cell_type": "code",
   "execution_count": 59,
   "id": "576dee8b",
   "metadata": {},
   "outputs": [
    {
     "data": {
      "text/plain": [
       "30"
      ]
     },
     "execution_count": 59,
     "metadata": {},
     "output_type": "execute_result"
    }
   ],
   "source": [
    "ser.iloc[2]"
   ]
  },
  {
   "cell_type": "code",
   "execution_count": null,
   "id": "01e338ef",
   "metadata": {},
   "outputs": [],
   "source": [
    "##\n",
    "## If you have defined explict labels, try and stick with using me vs switching between explict and implicit because\n",
    "## it can cause confusion\n",
    "##"
   ]
  }
 ],
 "metadata": {
  "kernelspec": {
   "display_name": "Python 3 (ipykernel)",
   "language": "python",
   "name": "python3"
  },
  "language_info": {
   "codemirror_mode": {
    "name": "ipython",
    "version": 3
   },
   "file_extension": ".py",
   "mimetype": "text/x-python",
   "name": "python",
   "nbconvert_exporter": "python",
   "pygments_lexer": "ipython3",
   "version": "3.8.12"
  }
 },
 "nbformat": 4,
 "nbformat_minor": 5
}
